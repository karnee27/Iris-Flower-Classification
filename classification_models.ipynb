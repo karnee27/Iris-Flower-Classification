{
  "cells": [
    {
      "cell_type": "markdown",
      "id": "79376f51",
      "metadata": {
        "id": "79376f51"
      },
      "source": [
        "# Iris Flower Classification Problem\n"
      ]
    },
    {
      "cell_type": "markdown",
      "id": "0f16d684",
      "metadata": {
        "id": "0f16d684"
      },
      "source": [
        "Have you ever heard of the Iris flower dataset? It is one of the most well-known datasets in the world of machine learning and data science, and for good reason. It consists of 150 records of Iris flowers, including information about their sepal and petal length and width, as well as the type of Iris flower.\n",
        "\n",
        "The Iris genus entails about 300 species, but our program will only classify the following three:\n",
        "\n",
        "    Iris setosa\n",
        "    Iris virginica\n",
        "    Iris versicolor\n",
        "    "
      ]
    },
    {
      "cell_type": "code",
      "execution_count": 1,
      "id": "30caf8e1",
      "metadata": {
        "id": "30caf8e1"
      },
      "outputs": [],
      "source": [
        "# Import necessary libraries\n",
        "import numpy as np\n",
        "import pandas as pd\n",
        "import seaborn as sns\n",
        "import matplotlib.pyplot as plt\n",
        "from sklearn import datasets\n",
        "from sklearn.metrics import accuracy_score, classification_report, confusion_matrix\n"
      ]
    },
    {
      "cell_type": "code",
      "execution_count": 2,
      "id": "61quKs7ZBMiw",
      "metadata": {
        "colab": {
          "base_uri": "https://localhost:8080/"
        },
        "id": "61quKs7ZBMiw",
        "outputId": "30bee07c-ca12-42df-b88e-c936509b72e9"
      },
      "outputs": [
        {
          "name": "stdout",
          "output_type": "stream",
          "text": [
            "Mounted at /content/drive\n"
          ]
        }
      ],
      "source": [
        "from google.colab import drive\n",
        "drive.mount('/content/drive')"
      ]
    },
    {
      "cell_type": "code",
      "execution_count": 3,
      "id": "791bfcc9",
      "metadata": {
        "id": "791bfcc9"
      },
      "outputs": [],
      "source": [
        "# Load the data\n",
        "ds = pd.read_csv('/content/drive/My Drive/Colab Notebooks/iris.csv')"
      ]
    },
    {
      "cell_type": "code",
      "execution_count": 4,
      "id": "0a374d76",
      "metadata": {
        "colab": {
          "base_uri": "https://localhost:8080/",
          "height": 363
        },
        "id": "0a374d76",
        "outputId": "c5d3164d-24af-4cb9-c81f-5d507e10fe44"
      },
      "outputs": [
        {
          "data": {
            "application/vnd.google.colaboratory.intrinsic+json": {
              "summary": "{\n  \"name\": \"ds\",\n  \"rows\": 150,\n  \"fields\": [\n    {\n      \"column\": \"sepal.length\",\n      \"properties\": {\n        \"dtype\": \"number\",\n        \"std\": 0.828066127977863,\n        \"min\": 4.3,\n        \"max\": 7.9,\n        \"num_unique_values\": 35,\n        \"samples\": [\n          6.2,\n          4.5,\n          5.6\n        ],\n        \"semantic_type\": \"\",\n        \"description\": \"\"\n      }\n    },\n    {\n      \"column\": \"sepal.width\",\n      \"properties\": {\n        \"dtype\": \"number\",\n        \"std\": 0.4358662849366982,\n        \"min\": 2.0,\n        \"max\": 4.4,\n        \"num_unique_values\": 23,\n        \"samples\": [\n          2.3,\n          4.0,\n          3.5\n        ],\n        \"semantic_type\": \"\",\n        \"description\": \"\"\n      }\n    },\n    {\n      \"column\": \"petal.length\",\n      \"properties\": {\n        \"dtype\": \"number\",\n        \"std\": 1.7652982332594662,\n        \"min\": 1.0,\n        \"max\": 6.9,\n        \"num_unique_values\": 43,\n        \"samples\": [\n          6.7,\n          3.8,\n          3.7\n        ],\n        \"semantic_type\": \"\",\n        \"description\": \"\"\n      }\n    },\n    {\n      \"column\": \"petal.width\",\n      \"properties\": {\n        \"dtype\": \"number\",\n        \"std\": 0.7622376689603465,\n        \"min\": 0.1,\n        \"max\": 2.5,\n        \"num_unique_values\": 22,\n        \"samples\": [\n          0.2,\n          1.2,\n          1.3\n        ],\n        \"semantic_type\": \"\",\n        \"description\": \"\"\n      }\n    },\n    {\n      \"column\": \"variety\",\n      \"properties\": {\n        \"dtype\": \"category\",\n        \"num_unique_values\": 3,\n        \"samples\": [\n          \"Setosa\",\n          \"Versicolor\",\n          \"Virginica\"\n        ],\n        \"semantic_type\": \"\",\n        \"description\": \"\"\n      }\n    }\n  ]\n}",
              "type": "dataframe",
              "variable_name": "ds"
            },
            "text/html": [
              "\n",
              "  <div id=\"df-c79bab79-7db3-40e5-9b8f-42f96079957e\" class=\"colab-df-container\">\n",
              "    <div>\n",
              "<style scoped>\n",
              "    .dataframe tbody tr th:only-of-type {\n",
              "        vertical-align: middle;\n",
              "    }\n",
              "\n",
              "    .dataframe tbody tr th {\n",
              "        vertical-align: top;\n",
              "    }\n",
              "\n",
              "    .dataframe thead th {\n",
              "        text-align: right;\n",
              "    }\n",
              "</style>\n",
              "<table border=\"1\" class=\"dataframe\">\n",
              "  <thead>\n",
              "    <tr style=\"text-align: right;\">\n",
              "      <th></th>\n",
              "      <th>sepal.length</th>\n",
              "      <th>sepal.width</th>\n",
              "      <th>petal.length</th>\n",
              "      <th>petal.width</th>\n",
              "      <th>variety</th>\n",
              "    </tr>\n",
              "  </thead>\n",
              "  <tbody>\n",
              "    <tr>\n",
              "      <th>0</th>\n",
              "      <td>5.1</td>\n",
              "      <td>3.5</td>\n",
              "      <td>1.4</td>\n",
              "      <td>0.2</td>\n",
              "      <td>Setosa</td>\n",
              "    </tr>\n",
              "    <tr>\n",
              "      <th>1</th>\n",
              "      <td>4.9</td>\n",
              "      <td>3.0</td>\n",
              "      <td>1.4</td>\n",
              "      <td>0.2</td>\n",
              "      <td>Setosa</td>\n",
              "    </tr>\n",
              "    <tr>\n",
              "      <th>2</th>\n",
              "      <td>4.7</td>\n",
              "      <td>3.2</td>\n",
              "      <td>1.3</td>\n",
              "      <td>0.2</td>\n",
              "      <td>Setosa</td>\n",
              "    </tr>\n",
              "    <tr>\n",
              "      <th>3</th>\n",
              "      <td>4.6</td>\n",
              "      <td>3.1</td>\n",
              "      <td>1.5</td>\n",
              "      <td>0.2</td>\n",
              "      <td>Setosa</td>\n",
              "    </tr>\n",
              "    <tr>\n",
              "      <th>4</th>\n",
              "      <td>5.0</td>\n",
              "      <td>3.6</td>\n",
              "      <td>1.4</td>\n",
              "      <td>0.2</td>\n",
              "      <td>Setosa</td>\n",
              "    </tr>\n",
              "    <tr>\n",
              "      <th>5</th>\n",
              "      <td>5.4</td>\n",
              "      <td>3.9</td>\n",
              "      <td>1.7</td>\n",
              "      <td>0.4</td>\n",
              "      <td>Setosa</td>\n",
              "    </tr>\n",
              "    <tr>\n",
              "      <th>6</th>\n",
              "      <td>4.6</td>\n",
              "      <td>3.4</td>\n",
              "      <td>1.4</td>\n",
              "      <td>0.3</td>\n",
              "      <td>Setosa</td>\n",
              "    </tr>\n",
              "    <tr>\n",
              "      <th>7</th>\n",
              "      <td>5.0</td>\n",
              "      <td>3.4</td>\n",
              "      <td>1.5</td>\n",
              "      <td>0.2</td>\n",
              "      <td>Setosa</td>\n",
              "    </tr>\n",
              "    <tr>\n",
              "      <th>8</th>\n",
              "      <td>4.4</td>\n",
              "      <td>2.9</td>\n",
              "      <td>1.4</td>\n",
              "      <td>0.2</td>\n",
              "      <td>Setosa</td>\n",
              "    </tr>\n",
              "    <tr>\n",
              "      <th>9</th>\n",
              "      <td>4.9</td>\n",
              "      <td>3.1</td>\n",
              "      <td>1.5</td>\n",
              "      <td>0.1</td>\n",
              "      <td>Setosa</td>\n",
              "    </tr>\n",
              "  </tbody>\n",
              "</table>\n",
              "</div>\n",
              "    <div class=\"colab-df-buttons\">\n",
              "\n",
              "  <div class=\"colab-df-container\">\n",
              "    <button class=\"colab-df-convert\" onclick=\"convertToInteractive('df-c79bab79-7db3-40e5-9b8f-42f96079957e')\"\n",
              "            title=\"Convert this dataframe to an interactive table.\"\n",
              "            style=\"display:none;\">\n",
              "\n",
              "  <svg xmlns=\"http://www.w3.org/2000/svg\" height=\"24px\" viewBox=\"0 -960 960 960\">\n",
              "    <path d=\"M120-120v-720h720v720H120Zm60-500h600v-160H180v160Zm220 220h160v-160H400v160Zm0 220h160v-160H400v160ZM180-400h160v-160H180v160Zm440 0h160v-160H620v160ZM180-180h160v-160H180v160Zm440 0h160v-160H620v160Z\"/>\n",
              "  </svg>\n",
              "    </button>\n",
              "\n",
              "  <style>\n",
              "    .colab-df-container {\n",
              "      display:flex;\n",
              "      gap: 12px;\n",
              "    }\n",
              "\n",
              "    .colab-df-convert {\n",
              "      background-color: #E8F0FE;\n",
              "      border: none;\n",
              "      border-radius: 50%;\n",
              "      cursor: pointer;\n",
              "      display: none;\n",
              "      fill: #1967D2;\n",
              "      height: 32px;\n",
              "      padding: 0 0 0 0;\n",
              "      width: 32px;\n",
              "    }\n",
              "\n",
              "    .colab-df-convert:hover {\n",
              "      background-color: #E2EBFA;\n",
              "      box-shadow: 0px 1px 2px rgba(60, 64, 67, 0.3), 0px 1px 3px 1px rgba(60, 64, 67, 0.15);\n",
              "      fill: #174EA6;\n",
              "    }\n",
              "\n",
              "    .colab-df-buttons div {\n",
              "      margin-bottom: 4px;\n",
              "    }\n",
              "\n",
              "    [theme=dark] .colab-df-convert {\n",
              "      background-color: #3B4455;\n",
              "      fill: #D2E3FC;\n",
              "    }\n",
              "\n",
              "    [theme=dark] .colab-df-convert:hover {\n",
              "      background-color: #434B5C;\n",
              "      box-shadow: 0px 1px 3px 1px rgba(0, 0, 0, 0.15);\n",
              "      filter: drop-shadow(0px 1px 2px rgba(0, 0, 0, 0.3));\n",
              "      fill: #FFFFFF;\n",
              "    }\n",
              "  </style>\n",
              "\n",
              "    <script>\n",
              "      const buttonEl =\n",
              "        document.querySelector('#df-c79bab79-7db3-40e5-9b8f-42f96079957e button.colab-df-convert');\n",
              "      buttonEl.style.display =\n",
              "        google.colab.kernel.accessAllowed ? 'block' : 'none';\n",
              "\n",
              "      async function convertToInteractive(key) {\n",
              "        const element = document.querySelector('#df-c79bab79-7db3-40e5-9b8f-42f96079957e');\n",
              "        const dataTable =\n",
              "          await google.colab.kernel.invokeFunction('convertToInteractive',\n",
              "                                                    [key], {});\n",
              "        if (!dataTable) return;\n",
              "\n",
              "        const docLinkHtml = 'Like what you see? Visit the ' +\n",
              "          '<a target=\"_blank\" href=https://colab.research.google.com/notebooks/data_table.ipynb>data table notebook</a>'\n",
              "          + ' to learn more about interactive tables.';\n",
              "        element.innerHTML = '';\n",
              "        dataTable['output_type'] = 'display_data';\n",
              "        await google.colab.output.renderOutput(dataTable, element);\n",
              "        const docLink = document.createElement('div');\n",
              "        docLink.innerHTML = docLinkHtml;\n",
              "        element.appendChild(docLink);\n",
              "      }\n",
              "    </script>\n",
              "  </div>\n",
              "\n",
              "\n",
              "<div id=\"df-8508a89d-98d7-4f9f-8218-c5fe10ab1dca\">\n",
              "  <button class=\"colab-df-quickchart\" onclick=\"quickchart('df-8508a89d-98d7-4f9f-8218-c5fe10ab1dca')\"\n",
              "            title=\"Suggest charts\"\n",
              "            style=\"display:none;\">\n",
              "\n",
              "<svg xmlns=\"http://www.w3.org/2000/svg\" height=\"24px\"viewBox=\"0 0 24 24\"\n",
              "     width=\"24px\">\n",
              "    <g>\n",
              "        <path d=\"M19 3H5c-1.1 0-2 .9-2 2v14c0 1.1.9 2 2 2h14c1.1 0 2-.9 2-2V5c0-1.1-.9-2-2-2zM9 17H7v-7h2v7zm4 0h-2V7h2v10zm4 0h-2v-4h2v4z\"/>\n",
              "    </g>\n",
              "</svg>\n",
              "  </button>\n",
              "\n",
              "<style>\n",
              "  .colab-df-quickchart {\n",
              "      --bg-color: #E8F0FE;\n",
              "      --fill-color: #1967D2;\n",
              "      --hover-bg-color: #E2EBFA;\n",
              "      --hover-fill-color: #174EA6;\n",
              "      --disabled-fill-color: #AAA;\n",
              "      --disabled-bg-color: #DDD;\n",
              "  }\n",
              "\n",
              "  [theme=dark] .colab-df-quickchart {\n",
              "      --bg-color: #3B4455;\n",
              "      --fill-color: #D2E3FC;\n",
              "      --hover-bg-color: #434B5C;\n",
              "      --hover-fill-color: #FFFFFF;\n",
              "      --disabled-bg-color: #3B4455;\n",
              "      --disabled-fill-color: #666;\n",
              "  }\n",
              "\n",
              "  .colab-df-quickchart {\n",
              "    background-color: var(--bg-color);\n",
              "    border: none;\n",
              "    border-radius: 50%;\n",
              "    cursor: pointer;\n",
              "    display: none;\n",
              "    fill: var(--fill-color);\n",
              "    height: 32px;\n",
              "    padding: 0;\n",
              "    width: 32px;\n",
              "  }\n",
              "\n",
              "  .colab-df-quickchart:hover {\n",
              "    background-color: var(--hover-bg-color);\n",
              "    box-shadow: 0 1px 2px rgba(60, 64, 67, 0.3), 0 1px 3px 1px rgba(60, 64, 67, 0.15);\n",
              "    fill: var(--button-hover-fill-color);\n",
              "  }\n",
              "\n",
              "  .colab-df-quickchart-complete:disabled,\n",
              "  .colab-df-quickchart-complete:disabled:hover {\n",
              "    background-color: var(--disabled-bg-color);\n",
              "    fill: var(--disabled-fill-color);\n",
              "    box-shadow: none;\n",
              "  }\n",
              "\n",
              "  .colab-df-spinner {\n",
              "    border: 2px solid var(--fill-color);\n",
              "    border-color: transparent;\n",
              "    border-bottom-color: var(--fill-color);\n",
              "    animation:\n",
              "      spin 1s steps(1) infinite;\n",
              "  }\n",
              "\n",
              "  @keyframes spin {\n",
              "    0% {\n",
              "      border-color: transparent;\n",
              "      border-bottom-color: var(--fill-color);\n",
              "      border-left-color: var(--fill-color);\n",
              "    }\n",
              "    20% {\n",
              "      border-color: transparent;\n",
              "      border-left-color: var(--fill-color);\n",
              "      border-top-color: var(--fill-color);\n",
              "    }\n",
              "    30% {\n",
              "      border-color: transparent;\n",
              "      border-left-color: var(--fill-color);\n",
              "      border-top-color: var(--fill-color);\n",
              "      border-right-color: var(--fill-color);\n",
              "    }\n",
              "    40% {\n",
              "      border-color: transparent;\n",
              "      border-right-color: var(--fill-color);\n",
              "      border-top-color: var(--fill-color);\n",
              "    }\n",
              "    60% {\n",
              "      border-color: transparent;\n",
              "      border-right-color: var(--fill-color);\n",
              "    }\n",
              "    80% {\n",
              "      border-color: transparent;\n",
              "      border-right-color: var(--fill-color);\n",
              "      border-bottom-color: var(--fill-color);\n",
              "    }\n",
              "    90% {\n",
              "      border-color: transparent;\n",
              "      border-bottom-color: var(--fill-color);\n",
              "    }\n",
              "  }\n",
              "</style>\n",
              "\n",
              "  <script>\n",
              "    async function quickchart(key) {\n",
              "      const quickchartButtonEl =\n",
              "        document.querySelector('#' + key + ' button');\n",
              "      quickchartButtonEl.disabled = true;  // To prevent multiple clicks.\n",
              "      quickchartButtonEl.classList.add('colab-df-spinner');\n",
              "      try {\n",
              "        const charts = await google.colab.kernel.invokeFunction(\n",
              "            'suggestCharts', [key], {});\n",
              "      } catch (error) {\n",
              "        console.error('Error during call to suggestCharts:', error);\n",
              "      }\n",
              "      quickchartButtonEl.classList.remove('colab-df-spinner');\n",
              "      quickchartButtonEl.classList.add('colab-df-quickchart-complete');\n",
              "    }\n",
              "    (() => {\n",
              "      let quickchartButtonEl =\n",
              "        document.querySelector('#df-8508a89d-98d7-4f9f-8218-c5fe10ab1dca button');\n",
              "      quickchartButtonEl.style.display =\n",
              "        google.colab.kernel.accessAllowed ? 'block' : 'none';\n",
              "    })();\n",
              "  </script>\n",
              "</div>\n",
              "\n",
              "    </div>\n",
              "  </div>\n"
            ],
            "text/plain": [
              "   sepal.length  sepal.width  petal.length  petal.width variety\n",
              "0           5.1          3.5           1.4          0.2  Setosa\n",
              "1           4.9          3.0           1.4          0.2  Setosa\n",
              "2           4.7          3.2           1.3          0.2  Setosa\n",
              "3           4.6          3.1           1.5          0.2  Setosa\n",
              "4           5.0          3.6           1.4          0.2  Setosa\n",
              "5           5.4          3.9           1.7          0.4  Setosa\n",
              "6           4.6          3.4           1.4          0.3  Setosa\n",
              "7           5.0          3.4           1.5          0.2  Setosa\n",
              "8           4.4          2.9           1.4          0.2  Setosa\n",
              "9           4.9          3.1           1.5          0.1  Setosa"
            ]
          },
          "execution_count": 4,
          "metadata": {},
          "output_type": "execute_result"
        }
      ],
      "source": [
        "#print the top 10 of the head of the data\n",
        "ds.head(10)"
      ]
    },
    {
      "cell_type": "code",
      "execution_count": 12,
      "id": "881fead6",
      "metadata": {
        "id": "881fead6"
      },
      "outputs": [],
      "source": [
        "# Seperate the X and the Y variable.\n",
        "# Y is the variety of the iris flowers\n",
        "\n",
        "# return dataframe includes all rows and all columns except the last one\n",
        "X = ds.iloc[:,:-1]\n",
        "\n",
        "# return dataframe includes all rows in last column\n",
        "Y = ds.iloc[:,-1]\n",
        "\n"
      ]
    },
    {
      "cell_type": "code",
      "execution_count": 13,
      "id": "8459cad2",
      "metadata": {
        "colab": {
          "base_uri": "https://localhost:8080/"
        },
        "id": "8459cad2",
        "outputId": "ea6d65b9-a7f2-4b25-d5d4-89b744071dd6"
      },
      "outputs": [
        {
          "name": "stdout",
          "output_type": "stream",
          "text": [
            "     sepal.length  sepal.width  petal.length  petal.width\n",
            "0             5.1          3.5           1.4          0.2\n",
            "1             4.9          3.0           1.4          0.2\n",
            "2             4.7          3.2           1.3          0.2\n",
            "3             4.6          3.1           1.5          0.2\n",
            "4             5.0          3.6           1.4          0.2\n",
            "..            ...          ...           ...          ...\n",
            "145           6.7          3.0           5.2          2.3\n",
            "146           6.3          2.5           5.0          1.9\n",
            "147           6.5          3.0           5.2          2.0\n",
            "148           6.2          3.4           5.4          2.3\n",
            "149           5.9          3.0           5.1          1.8\n",
            "\n",
            "[150 rows x 4 columns]\n",
            "0         Setosa\n",
            "1         Setosa\n",
            "2         Setosa\n",
            "3         Setosa\n",
            "4         Setosa\n",
            "         ...    \n",
            "145    Virginica\n",
            "146    Virginica\n",
            "147    Virginica\n",
            "148    Virginica\n",
            "149    Virginica\n",
            "Name: variety, Length: 150, dtype: object\n"
          ]
        }
      ],
      "source": [
        "#print the x and y for inspection purposes\n",
        "\n",
        "print (X)\n",
        "print(Y)"
      ]
    },
    {
      "cell_type": "code",
      "execution_count": 14,
      "id": "38888bf3",
      "metadata": {
        "colab": {
          "base_uri": "https://localhost:8080/",
          "height": 545
        },
        "id": "38888bf3",
        "outputId": "fad0d8b6-bb86-4714-bcbc-1e3b89f55f0f"
      },
      "outputs": [
        {
          "data": {
            "image/png": "[encoded data removed]",
            "text/plain": [
              "<Figure size 800x600 with 2 Axes>"
            ]
          },
          "metadata": {},
          "output_type": "display_data"
        }
      ],
      "source": [
        "# Correlation matrix\n",
        "numerical_ds = ds.iloc[:,:-1]\n",
        "correlation_matrix = numerical_ds.corr()\n",
        "\n",
        "plt.figure(figsize=(8, 6))\n",
        "sns.heatmap(correlation_matrix, annot=True, cmap='viridis', fmt=\".2f\")\n",
        "plt.title(\"Correlation Matrix\")\n",
        "plt.show()\n"
      ]
    },
    {
      "cell_type": "code",
      "execution_count": 15,
      "id": "23cad267",
      "metadata": {
        "id": "23cad267"
      },
      "outputs": [],
      "source": [
        "# Split the data to train and test dataset.\n",
        "# the testing is 30%\n",
        "\n",
        "from sklearn.model_selection import train_test_split\n",
        "# X is eature set, Y is target variable\n",
        "X_train, X_test, Y_train, Y_test = train_test_split(X, Y, test_size=0.3, random_state=0)"
      ]
    },
    {
      "cell_type": "code",
      "execution_count": 16,
      "id": "f1d68f76",
      "metadata": {
        "id": "f1d68f76"
      },
      "outputs": [],
      "source": [
        "# Feature Scaling for X variables\n",
        "\n",
        "from sklearn.preprocessing import StandardScaler\n",
        "\n",
        "# Create a StandardScaler instance\n",
        "scaler = StandardScaler()\n",
        "\n",
        "# Fit the scaler to the training data and transform it\n",
        "X_train = scaler.fit_transform(X_train)\n",
        "\n",
        "# Transform the test data\n",
        "X_test = scaler.transform(X_test)"
      ]
    },
    {
      "cell_type": "code",
      "execution_count": 11,
      "id": "59c238b1",
      "metadata": {
        "colab": {
          "base_uri": "https://localhost:8080/"
        },
        "id": "59c238b1",
        "outputId": "c62e8641-ad4f-4496-b650-f7f505dd0540"
      },
      "outputs": [
        {
          "name": "stdout",
          "output_type": "stream",
          "text": [
            "[[-0.4134164  -1.46200287 -0.09951105 -0.32339776]\n",
            " [ 0.55122187 -0.50256349  0.71770262  0.35303182]\n",
            " [ 0.67180165  0.21701605  0.95119225  0.75888956]\n",
            " [ 0.91296121 -0.02284379  0.30909579  0.2177459 ]\n",
            " [ 1.63643991  1.41631528  1.30142668  1.70589097]\n",
            " [-0.17225683 -0.26270364  0.19235097  0.08245999]\n",
            " [ 2.11875905 -0.02284379  1.59328871  1.16474731]\n",
            " [-0.29283662 -0.02284379  0.36746819  0.35303182]\n",
            " [-0.89573553  1.17645543 -1.44207638 -1.40568508]\n",
            " [ 2.23933883 -0.50256349  1.65166111  1.0294614 ]\n",
            " [-0.05167705 -0.74242333  0.13397857 -0.32339776]\n",
            " [-0.77515575  0.93659559 -1.44207638 -1.40568508]\n",
            " [-1.01631531  1.17645543 -1.50044878 -1.27039917]\n",
            " [-0.89573553  1.89603497 -1.15021435 -1.13511325]\n",
            " [-1.01631531 -2.42144225 -0.21625586 -0.32339776]\n",
            " [ 0.55122187 -0.74242333  0.60095781  0.75888956]\n",
            " [-1.25747488  0.93659559 -1.15021435 -1.40568508]\n",
            " [-1.01631531 -0.02284379 -1.32533157 -1.40568508]\n",
            " [-0.89573553  0.69673574 -1.26695916 -0.99982734]\n",
            " [-0.29283662 -0.74242333  0.19235097  0.08245999]\n",
            " [-0.89573553  0.93659559 -1.38370397 -1.40568508]\n",
            " [-0.17225683 -0.02284379  0.19235097 -0.05282593]\n",
            " [ 2.23933883  1.89603497  1.65166111  1.30003323]\n",
            " [-1.49863445  0.4568759  -1.44207638 -1.40568508]\n",
            " [ 0.43064208 -0.26270364  0.25072338  0.08245999]\n",
            " [-0.17225683 -1.22214302  0.65933022  1.0294614 ]\n",
            " [-0.4134164   2.85547435 -1.44207638 -1.40568508]\n",
            " [ 0.18948252 -0.02284379  0.54258541  0.75888956]\n",
            " [-0.05167705 -0.74242333  0.71770262  0.89417548]\n",
            " [ 0.18948252 -1.94172256  0.07560616 -0.32339776]\n",
            " [-0.53399618 -0.02284379  0.36746819  0.35303182]\n",
            " [ 0.43064208  0.93659559  0.89281984  1.43531914]\n",
            " [-0.4134164  -1.70186271  0.07560616  0.08245999]\n",
            " [-0.53399618  2.13589481 -1.26695916 -1.13511325]\n",
            " [-1.01631531 -1.70186271 -0.33300068 -0.32339776]\n",
            " [ 0.67180165 -0.74242333  0.83444743  0.89417548]\n",
            " [-1.01631531  0.69673574 -1.44207638 -1.40568508]\n",
            " [-1.01631531  0.4568759  -1.55882119 -1.40568508]\n",
            " [-0.4134164  -1.46200287 -0.04113865 -0.18811184]\n",
            " [ 1.033541   -0.02284379  0.65933022  0.62360365]\n",
            " [-1.1368951   0.21701605 -1.38370397 -1.40568508]\n",
            " [-0.05167705 -0.50256349  0.71770262  1.57060506]\n",
            " [-1.01631531  0.93659559 -1.38370397 -1.40568508]\n",
            " [-1.01631531  1.17645543 -1.32533157 -0.86454142]\n",
            " [ 0.06890273  0.4568759   0.54258541  0.75888956]\n",
            " [-0.89573553 -1.22214302 -0.50811789 -0.18811184]\n",
            " [ 1.27470056  0.4568759   1.06793706  1.43531914]\n",
            " [ 0.18948252 -0.74242333  0.71770262  0.48831773]\n",
            " [ 0.3100623  -0.98228318  1.00956465  0.2177459 ]\n",
            " [ 2.23933883 -0.02284379  1.30142668  1.43531914]\n",
            " [-0.4134164  -1.22214302  0.07560616  0.08245999]\n",
            " [-1.73979401 -0.26270364 -1.44207638 -1.40568508]\n",
            " [-1.8603738  -0.02284379 -1.6171936  -1.540971  ]\n",
            " [ 0.18948252 -1.94172256  0.65933022  0.35303182]\n",
            " [ 1.63643991  0.4568759   1.24305427  0.75888956]\n",
            " [-1.49863445  0.21701605 -1.38370397 -1.40568508]\n",
            " [-0.89573553  1.17645543 -1.44207638 -1.27039917]\n",
            " [-1.73979401 -0.02284379 -1.50044878 -1.40568508]\n",
            " [ 0.55122187 -1.22214302  0.60095781  0.35303182]\n",
            " [ 0.55122187  0.93659559  1.00956465  1.57060506]\n",
            " [-1.49863445  0.93659559 -1.44207638 -1.27039917]\n",
            " [ 1.15412078 -0.02284379  0.95119225  1.16474731]\n",
            " [ 0.55122187  0.69673574  1.24305427  1.70589097]\n",
            " [-1.37805466  0.4568759  -1.50044878 -1.40568508]\n",
            " [ 0.3100623  -0.26270364  0.484213    0.2177459 ]\n",
            " [ 0.79238143 -0.50256349  0.4258406   0.35303182]\n",
            " [ 0.43064208 -0.50256349  0.54258541  0.75888956]\n",
            " [ 1.39528035  0.4568759   0.484213    0.2177459 ]\n",
            " [ 0.67180165  0.4568759   0.83444743  1.43531914]\n",
            " [-0.89573553  1.89603497 -1.32533157 -1.40568508]\n",
            " [ 1.27470056  0.21701605  0.89281984  1.16474731]\n",
            " [ 0.06890273 -0.02284379  0.19235097  0.35303182]\n",
            " [ 0.79238143 -0.02284379  0.77607503  1.0294614 ]\n",
            " [-0.17225683 -0.98228318 -0.21625586 -0.32339776]\n",
            " [-0.77515575 -0.74242333  0.01723376  0.2177459 ]\n",
            " [ 0.3100623  -0.02284379  0.4258406   0.2177459 ]\n",
            " [-1.61921423 -1.70186271 -1.50044878 -1.27039917]\n",
            " [ 0.91296121 -0.26270364  0.4258406   0.08245999]\n",
            " [-0.4134164  -0.98228318  0.30909579 -0.05282593]\n",
            " [-0.65457597  1.65617512 -1.38370397 -1.40568508]\n",
            " [-0.29283662 -0.02284379  0.13397857  0.08245999]\n",
            " [ 1.7570197  -0.26270364  1.41817149  0.75888956]\n",
            " [ 1.033541    0.69673574  1.06793706  1.16474731]\n",
            " [-0.89573553  1.65617512 -1.38370397 -1.13511325]\n",
            " [-1.1368951  -1.46200287 -0.33300068 -0.32339776]\n",
            " [ 1.033541    0.69673574  1.06793706  1.70589097]\n",
            " [ 1.63643991 -0.02284379  1.12630946  0.48831773]\n",
            " [-1.1368951   1.41631528 -1.44207638 -1.540971  ]\n",
            " [ 1.033541    0.21701605  1.00956465  1.57060506]\n",
            " [-1.1368951  -0.02284379 -1.44207638 -1.40568508]\n",
            " [ 1.27470056  0.21701605  0.60095781  0.35303182]\n",
            " [ 1.87759948 -0.50256349  1.30142668  0.89417548]\n",
            " [ 0.55122187 -0.26270364  1.00956465  0.75888956]\n",
            " [-0.17225683 -0.50256349  0.13397857  0.08245999]\n",
            " [ 0.79238143 -0.02284379  0.95119225  0.75888956]\n",
            " [ 0.55122187 -1.70186271  0.30909579  0.08245999]\n",
            " [ 0.67180165 -0.26270364  0.25072338  0.08245999]\n",
            " [-0.29283662 -0.50256349  0.60095781  1.0294614 ]\n",
            " [ 0.06890273 -0.02284379  0.71770262  0.75888956]\n",
            " [-0.53399618  0.93659559 -1.26695916 -1.40568508]\n",
            " [ 0.3100623  -0.50256349  0.07560616  0.08245999]\n",
            " [-1.1368951  -1.22214302  0.36746819  0.62360365]\n",
            " [-0.05167705  2.37575466 -1.55882119 -1.40568508]\n",
            " [-0.05167705 -0.98228318  0.07560616 -0.05282593]\n",
            " [ 1.51586013 -0.02284379  1.18468187  1.16474731]]\n",
            "81     Versicolor\n",
            "133     Virginica\n",
            "137     Virginica\n",
            "75     Versicolor\n",
            "109     Virginica\n",
            "          ...    \n",
            "71     Versicolor\n",
            "106     Virginica\n",
            "14         Setosa\n",
            "92     Versicolor\n",
            "102     Virginica\n",
            "Name: variety, Length: 105, dtype: object\n"
          ]
        }
      ],
      "source": [
        "#print the x_train and y_train for inspection purposes\n",
        "\n",
        "# Print X_train\n",
        "print(X_train)\n",
        "\n",
        "# Print Y_train\n",
        "print(Y_train)\n",
        "\n"
      ]
    },
    {
      "cell_type": "markdown",
      "id": "4c9157e6",
      "metadata": {
        "id": "4c9157e6"
      },
      "source": [
        "# Use Random Forest model\n",
        "\n",
        "Build a Random Forest Classifier Model with <b>n_estimator of 100</b> and <b>criterion of entropy</b>.\n",
        "<div>\n",
        "    The random forest classifier model object is name as <b>RF_classifier</b>\n",
        "</div>"
      ]
    },
    {
      "cell_type": "code",
      "execution_count": 17,
      "id": "cf26ace9",
      "metadata": {
        "colab": {
          "base_uri": "https://localhost:8080/",
          "height": 74
        },
        "id": "cf26ace9",
        "outputId": "0516e4b5-d0fe-4285-a44a-08dd05724cab"
      },
      "outputs": [
        {
          "data": {
            "text/html": [
              "<style>#sk-container-id-1 {color: black;background-color: white;}#sk-container-id-1 pre{padding: 0;}#sk-container-id-1 div.sk-toggleable {background-color: white;}#sk-container-id-1 label.sk-toggleable__label {cursor: pointer;display: block;width: 100%;margin-bottom: 0;padding: 0.3em;box-sizing: border-box;text-align: center;}#sk-container-id-1 label.sk-toggleable__label-arrow:before {content: \"▸\";float: left;margin-right: 0.25em;color: #696969;}#sk-container-id-1 label.sk-toggleable__label-arrow:hover:before {color: black;}#sk-container-id-1 div.sk-estimator:hover label.sk-toggleable__label-arrow:before {color: black;}#sk-container-id-1 div.sk-toggleable__content {max-height: 0;max-width: 0;overflow: hidden;text-align: left;background-color: #f0f8ff;}#sk-container-id-1 div.sk-toggleable__content pre {margin: 0.2em;color: black;border-radius: 0.25em;background-color: #f0f8ff;}#sk-container-id-1 input.sk-toggleable__control:checked~div.sk-toggleable__content {max-height: 200px;max-width: 100%;overflow: auto;}#sk-container-id-1 input.sk-toggleable__control:checked~label.sk-toggleable__label-arrow:before {content: \"▾\";}#sk-container-id-1 div.sk-estimator input.sk-toggleable__control:checked~label.sk-toggleable__label {background-color: #d4ebff;}#sk-container-id-1 div.sk-label input.sk-toggleable__control:checked~label.sk-toggleable__label {background-color: #d4ebff;}#sk-container-id-1 input.sk-hidden--visually {border: 0;clip: rect(1px 1px 1px 1px);clip: rect(1px, 1px, 1px, 1px);height: 1px;margin: -1px;overflow: hidden;padding: 0;position: absolute;width: 1px;}#sk-container-id-1 div.sk-estimator {font-family: monospace;background-color: #f0f8ff;border: 1px dotted black;border-radius: 0.25em;box-sizing: border-box;margin-bottom: 0.5em;}#sk-container-id-1 div.sk-estimator:hover {background-color: #d4ebff;}#sk-container-id-1 div.sk-parallel-item::after {content: \"\";width: 100%;border-bottom: 1px solid gray;flex-grow: 1;}#sk-container-id-1 div.sk-label:hover label.sk-toggleable__label {background-color: #d4ebff;}#sk-container-id-1 div.sk-serial::before {content: \"\";position: absolute;border-left: 1px solid gray;box-sizing: border-box;top: 0;bottom: 0;left: 50%;z-index: 0;}#sk-container-id-1 div.sk-serial {display: flex;flex-direction: column;align-items: center;background-color: white;padding-right: 0.2em;padding-left: 0.2em;position: relative;}#sk-container-id-1 div.sk-item {position: relative;z-index: 1;}#sk-container-id-1 div.sk-parallel {display: flex;align-items: stretch;justify-content: center;background-color: white;position: relative;}#sk-container-id-1 div.sk-item::before, #sk-container-id-1 div.sk-parallel-item::before {content: \"\";position: absolute;border-left: 1px solid gray;box-sizing: border-box;top: 0;bottom: 0;left: 50%;z-index: -1;}#sk-container-id-1 div.sk-parallel-item {display: flex;flex-direction: column;z-index: 1;position: relative;background-color: white;}#sk-container-id-1 div.sk-parallel-item:first-child::after {align-self: flex-end;width: 50%;}#sk-container-id-1 div.sk-parallel-item:last-child::after {align-self: flex-start;width: 50%;}#sk-container-id-1 div.sk-parallel-item:only-child::after {width: 0;}#sk-container-id-1 div.sk-dashed-wrapped {border: 1px dashed gray;margin: 0 0.4em 0.5em 0.4em;box-sizing: border-box;padding-bottom: 0.4em;background-color: white;}#sk-container-id-1 div.sk-label label {font-family: monospace;font-weight: bold;display: inline-block;line-height: 1.2em;}#sk-container-id-1 div.sk-label-container {text-align: center;}#sk-container-id-1 div.sk-container {/* jupyter's `normalize.less` sets `[hidden] { display: none; }` but bootstrap.min.css set `[hidden] { display: none !important; }` so we also need the `!important` here to be able to override the default hidden behavior on the sphinx rendered scikit-learn.org. See: https://github.com/scikit-learn/scikit-learn/issues/21755 */display: inline-block !important;position: relative;}#sk-container-id-1 div.sk-text-repr-fallback {display: none;}</style><div id=\"sk-container-id-1\" class=\"sk-top-container\"><div class=\"sk-text-repr-fallback\"><pre>RandomForestClassifier(criterion=&#x27;entropy&#x27;, random_state=42)</pre><b>In a Jupyter environment, please rerun this cell to show the HTML representation or trust the notebook. <br />On GitHub, the HTML representation is unable to render, please try loading this page with nbviewer.org.</b></div><div class=\"sk-container\" hidden><div class=\"sk-item\"><div class=\"sk-estimator sk-toggleable\"><input class=\"sk-toggleable__control sk-hidden--visually\" id=\"sk-estimator-id-1\" type=\"checkbox\" checked><label for=\"sk-estimator-id-1\" class=\"sk-toggleable__label sk-toggleable__label-arrow\">RandomForestClassifier</label><div class=\"sk-toggleable__content\"><pre>RandomForestClassifier(criterion=&#x27;entropy&#x27;, random_state=42)</pre></div></div></div></div></div>"
            ],
            "text/plain": [
              "RandomForestClassifier(criterion='entropy', random_state=42)"
            ]
          },
          "execution_count": 17,
          "metadata": {},
          "output_type": "execute_result"
        }
      ],
      "source": [
        "#Random Forest Model\n",
        "from sklearn.ensemble import RandomForestClassifier\n",
        "\n",
        "# Create a RandomForestClassifier instance with n_estimators=100 and criterion='entropy'\n",
        "RF_classifier = RandomForestClassifier(n_estimators=100, criterion='entropy', random_state=42)\n",
        "\n",
        "# Fit the model to the training data\n",
        "RF_classifier.fit(X_train, Y_train)\n"
      ]
    },
    {
      "cell_type": "code",
      "execution_count": 18,
      "id": "14ae6dfb",
      "metadata": {
        "id": "14ae6dfb"
      },
      "outputs": [],
      "source": [
        "#Predict the X_test\n",
        "Y_pred = RF_classifier.predict(X_test)"
      ]
    },
    {
      "cell_type": "code",
      "execution_count": 21,
      "id": "45c59e7f",
      "metadata": {
        "colab": {
          "base_uri": "https://localhost:8080/"
        },
        "id": "45c59e7f",
        "outputId": "9aa7bfbd-eac9-4599-9d98-ae4c03771a6b"
      },
      "outputs": [
        {
          "name": "stdout",
          "output_type": "stream",
          "text": [
            "The original Y_test are : \n",
            "114     Virginica\n",
            "62     Versicolor\n",
            "33         Setosa\n",
            "107     Virginica\n",
            "7          Setosa\n",
            "100     Virginica\n",
            "40         Setosa\n",
            "86     Versicolor\n",
            "76     Versicolor\n",
            "71     Versicolor\n",
            "134     Virginica\n",
            "51     Versicolor\n",
            "73     Versicolor\n",
            "54     Versicolor\n",
            "63     Versicolor\n",
            "37         Setosa\n",
            "78     Versicolor\n",
            "90     Versicolor\n",
            "45         Setosa\n",
            "16         Setosa\n",
            "121     Virginica\n",
            "66     Versicolor\n",
            "24         Setosa\n",
            "8          Setosa\n",
            "126     Virginica\n",
            "22         Setosa\n",
            "44         Setosa\n",
            "97     Versicolor\n",
            "93     Versicolor\n",
            "26         Setosa\n",
            "137     Virginica\n",
            "84     Versicolor\n",
            "27         Setosa\n",
            "127     Virginica\n",
            "132     Virginica\n",
            "59     Versicolor\n",
            "18         Setosa\n",
            "83     Versicolor\n",
            "61     Versicolor\n",
            "92     Versicolor\n",
            "112     Virginica\n",
            "2          Setosa\n",
            "141     Virginica\n",
            "43         Setosa\n",
            "10         Setosa\n",
            "Name: variety, dtype: object\n",
            "\n",
            "The precited Y_test based on Random Forest model are : \n",
            "['Virginica' 'Versicolor' 'Setosa' 'Virginica' 'Setosa' 'Virginica'\n",
            " 'Setosa' 'Versicolor' 'Versicolor' 'Versicolor' 'Virginica' 'Versicolor'\n",
            " 'Versicolor' 'Versicolor' 'Versicolor' 'Setosa' 'Versicolor' 'Versicolor'\n",
            " 'Setosa' 'Setosa' 'Virginica' 'Versicolor' 'Setosa' 'Setosa' 'Virginica'\n",
            " 'Setosa' 'Setosa' 'Versicolor' 'Versicolor' 'Setosa' 'Virginica'\n",
            " 'Versicolor' 'Setosa' 'Virginica' 'Virginica' 'Versicolor' 'Setosa'\n",
            " 'Virginica' 'Versicolor' 'Versicolor' 'Virginica' 'Setosa' 'Virginica'\n",
            " 'Setosa' 'Setosa']\n"
          ]
        }
      ],
      "source": [
        "#Print the y_test and y_pred\n",
        "\n",
        "print(\"The original Y_test are : \")\n",
        "print(Y_test)\n",
        "print()\n",
        "\n",
        "print(\"The precited Y_test based on Random Forest model are : \")\n",
        "print(Y_pred)\n"
      ]
    },
    {
      "cell_type": "code",
      "execution_count": 22,
      "id": "1ad24e2f",
      "metadata": {
        "colab": {
          "base_uri": "https://localhost:8080/"
        },
        "id": "1ad24e2f",
        "outputId": "36be4d8c-a611-4561-99e3-8ae9c0b7536b"
      },
      "outputs": [
        {
          "name": "stdout",
          "output_type": "stream",
          "text": [
            "\n",
            "Confusion Matrix:\n",
            "[[16  0  0]\n",
            " [ 0 17  1]\n",
            " [ 0  0 11]]\n"
          ]
        }
      ],
      "source": [
        "# Confusion Matrix\n",
        "from sklearn.metrics import confusion_matrix\n",
        "conf_matrix = confusion_matrix(Y_test, Y_pred)\n",
        "print(\"\\nConfusion Matrix:\")\n",
        "print(conf_matrix)"
      ]
    },
    {
      "cell_type": "code",
      "execution_count": 23,
      "id": "c200b5bf",
      "metadata": {
        "colab": {
          "base_uri": "https://localhost:8080/"
        },
        "id": "c200b5bf",
        "outputId": "5fb4d55a-57b7-43fc-f44f-3664372219f5"
      },
      "outputs": [
        {
          "name": "stdout",
          "output_type": "stream",
          "text": [
            "\n",
            "Classification Report:\n",
            "              precision    recall  f1-score   support\n",
            "\n",
            "      Setosa       1.00      1.00      1.00        16\n",
            "  Versicolor       1.00      0.94      0.97        18\n",
            "   Virginica       0.92      1.00      0.96        11\n",
            "\n",
            "    accuracy                           0.98        45\n",
            "   macro avg       0.97      0.98      0.98        45\n",
            "weighted avg       0.98      0.98      0.98        45\n",
            "\n"
          ]
        }
      ],
      "source": [
        "# Classification Report\n",
        "print(\"\\nClassification Report:\")\n",
        "print(classification_report(Y_test, Y_pred))"
      ]
    },
    {
      "cell_type": "code",
      "execution_count": 24,
      "id": "63634c20",
      "metadata": {
        "colab": {
          "base_uri": "https://localhost:8080/"
        },
        "id": "63634c20",
        "outputId": "644750e8-c700-4593-9079-d1c5b1ae6ee9"
      },
      "outputs": [
        {
          "name": "stdout",
          "output_type": "stream",
          "text": [
            "The predicted type of the new iris flower is:  ['Virginica']\n"
          ]
        },
        {
          "name": "stderr",
          "output_type": "stream",
          "text": [
            "/usr/local/lib/python3.10/dist-packages/sklearn/base.py:439: UserWarning: X does not have valid feature names, but StandardScaler was fitted with feature names\n",
            "  warnings.warn(\n"
          ]
        }
      ],
      "source": [
        "#Predict the type of new iris flower where\n",
        "#sepal length is 6.5, sepal width is 3.8, petal length is 6.0 and petal width is 2.0\n",
        "\n",
        "# Create a new observation\n",
        "new_observation = [[6.5, 3.8, 6.0, 2.0]]\n",
        "\n",
        "# Scale the new observation\n",
        "new_observation_scaled = scaler.transform(new_observation)\n",
        "\n",
        "# Use the trained model to predict the type of the new iris flower\n",
        "new_prediction = RF_classifier.predict(new_observation_scaled)\n",
        "\n",
        "print(\"The predicted type of the new iris flower is: \", new_prediction)\n",
        "\n"
      ]
    },
    {
      "cell_type": "markdown",
      "id": "1f822439",
      "metadata": {
        "id": "1f822439"
      },
      "source": [
        "# Use Logistic Regression model"
      ]
    },
    {
      "cell_type": "code",
      "execution_count": 25,
      "id": "e1ad6e41",
      "metadata": {
        "colab": {
          "base_uri": "https://localhost:8080/",
          "height": 74
        },
        "id": "e1ad6e41",
        "outputId": "c0ea42aa-cca1-4be7-874f-26562cac745b"
      },
      "outputs": [
        {
          "data": {
            "text/html": [
              "<style>#sk-container-id-2 {color: black;background-color: white;}#sk-container-id-2 pre{padding: 0;}#sk-container-id-2 div.sk-toggleable {background-color: white;}#sk-container-id-2 label.sk-toggleable__label {cursor: pointer;display: block;width: 100%;margin-bottom: 0;padding: 0.3em;box-sizing: border-box;text-align: center;}#sk-container-id-2 label.sk-toggleable__label-arrow:before {content: \"▸\";float: left;margin-right: 0.25em;color: #696969;}#sk-container-id-2 label.sk-toggleable__label-arrow:hover:before {color: black;}#sk-container-id-2 div.sk-estimator:hover label.sk-toggleable__label-arrow:before {color: black;}#sk-container-id-2 div.sk-toggleable__content {max-height: 0;max-width: 0;overflow: hidden;text-align: left;background-color: #f0f8ff;}#sk-container-id-2 div.sk-toggleable__content pre {margin: 0.2em;color: black;border-radius: 0.25em;background-color: #f0f8ff;}#sk-container-id-2 input.sk-toggleable__control:checked~div.sk-toggleable__content {max-height: 200px;max-width: 100%;overflow: auto;}#sk-container-id-2 input.sk-toggleable__control:checked~label.sk-toggleable__label-arrow:before {content: \"▾\";}#sk-container-id-2 div.sk-estimator input.sk-toggleable__control:checked~label.sk-toggleable__label {background-color: #d4ebff;}#sk-container-id-2 div.sk-label input.sk-toggleable__control:checked~label.sk-toggleable__label {background-color: #d4ebff;}#sk-container-id-2 input.sk-hidden--visually {border: 0;clip: rect(1px 1px 1px 1px);clip: rect(1px, 1px, 1px, 1px);height: 1px;margin: -1px;overflow: hidden;padding: 0;position: absolute;width: 1px;}#sk-container-id-2 div.sk-estimator {font-family: monospace;background-color: #f0f8ff;border: 1px dotted black;border-radius: 0.25em;box-sizing: border-box;margin-bottom: 0.5em;}#sk-container-id-2 div.sk-estimator:hover {background-color: #d4ebff;}#sk-container-id-2 div.sk-parallel-item::after {content: \"\";width: 100%;border-bottom: 1px solid gray;flex-grow: 1;}#sk-container-id-2 div.sk-label:hover label.sk-toggleable__label {background-color: #d4ebff;}#sk-container-id-2 div.sk-serial::before {content: \"\";position: absolute;border-left: 1px solid gray;box-sizing: border-box;top: 0;bottom: 0;left: 50%;z-index: 0;}#sk-container-id-2 div.sk-serial {display: flex;flex-direction: column;align-items: center;background-color: white;padding-right: 0.2em;padding-left: 0.2em;position: relative;}#sk-container-id-2 div.sk-item {position: relative;z-index: 1;}#sk-container-id-2 div.sk-parallel {display: flex;align-items: stretch;justify-content: center;background-color: white;position: relative;}#sk-container-id-2 div.sk-item::before, #sk-container-id-2 div.sk-parallel-item::before {content: \"\";position: absolute;border-left: 1px solid gray;box-sizing: border-box;top: 0;bottom: 0;left: 50%;z-index: -1;}#sk-container-id-2 div.sk-parallel-item {display: flex;flex-direction: column;z-index: 1;position: relative;background-color: white;}#sk-container-id-2 div.sk-parallel-item:first-child::after {align-self: flex-end;width: 50%;}#sk-container-id-2 div.sk-parallel-item:last-child::after {align-self: flex-start;width: 50%;}#sk-container-id-2 div.sk-parallel-item:only-child::after {width: 0;}#sk-container-id-2 div.sk-dashed-wrapped {border: 1px dashed gray;margin: 0 0.4em 0.5em 0.4em;box-sizing: border-box;padding-bottom: 0.4em;background-color: white;}#sk-container-id-2 div.sk-label label {font-family: monospace;font-weight: bold;display: inline-block;line-height: 1.2em;}#sk-container-id-2 div.sk-label-container {text-align: center;}#sk-container-id-2 div.sk-container {/* jupyter's `normalize.less` sets `[hidden] { display: none; }` but bootstrap.min.css set `[hidden] { display: none !important; }` so we also need the `!important` here to be able to override the default hidden behavior on the sphinx rendered scikit-learn.org. See: https://github.com/scikit-learn/scikit-learn/issues/21755 */display: inline-block !important;position: relative;}#sk-container-id-2 div.sk-text-repr-fallback {display: none;}</style><div id=\"sk-container-id-2\" class=\"sk-top-container\"><div class=\"sk-text-repr-fallback\"><pre>LogisticRegression(random_state=0)</pre><b>In a Jupyter environment, please rerun this cell to show the HTML representation or trust the notebook. <br />On GitHub, the HTML representation is unable to render, please try loading this page with nbviewer.org.</b></div><div class=\"sk-container\" hidden><div class=\"sk-item\"><div class=\"sk-estimator sk-toggleable\"><input class=\"sk-toggleable__control sk-hidden--visually\" id=\"sk-estimator-id-2\" type=\"checkbox\" checked><label for=\"sk-estimator-id-2\" class=\"sk-toggleable__label sk-toggleable__label-arrow\">LogisticRegression</label><div class=\"sk-toggleable__content\"><pre>LogisticRegression(random_state=0)</pre></div></div></div></div></div>"
            ],
            "text/plain": [
              "LogisticRegression(random_state=0)"
            ]
          },
          "execution_count": 25,
          "metadata": {},
          "output_type": "execute_result"
        }
      ],
      "source": [
        "#Build Logistic Regression Classifier\n",
        "\n",
        "from sklearn.linear_model import LogisticRegression\n",
        "LR_classifier = LogisticRegression(random_state=0)\n",
        "LR_classifier.fit(X_train, Y_train)"
      ]
    },
    {
      "cell_type": "code",
      "execution_count": 27,
      "id": "37ba13e0",
      "metadata": {
        "id": "37ba13e0"
      },
      "outputs": [],
      "source": [
        "#Predict the X_test\n",
        "Y_pred = LR_classifier.predict(X_test)"
      ]
    },
    {
      "cell_type": "code",
      "execution_count": 28,
      "id": "0354c2ec",
      "metadata": {
        "colab": {
          "base_uri": "https://localhost:8080/"
        },
        "id": "0354c2ec",
        "outputId": "f0631739-c3b9-4762-9cea-81525d292216"
      },
      "outputs": [
        {
          "name": "stdout",
          "output_type": "stream",
          "text": [
            "\n",
            "Confusion Matrix:\n",
            "[[16  0  0]\n",
            " [ 0 17  1]\n",
            " [ 0  0 11]]\n"
          ]
        }
      ],
      "source": [
        "# Confusion Matrix\n",
        "from sklearn.metrics import confusion_matrix\n",
        "conf_matrix = confusion_matrix(Y_test, Y_pred)\n",
        "print(\"\\nConfusion Matrix:\")\n",
        "print(conf_matrix)"
      ]
    },
    {
      "cell_type": "code",
      "execution_count": 29,
      "id": "c7a50037",
      "metadata": {
        "colab": {
          "base_uri": "https://localhost:8080/"
        },
        "id": "c7a50037",
        "outputId": "86874a6e-72ee-447e-f884-9daf2df77b88"
      },
      "outputs": [
        {
          "name": "stdout",
          "output_type": "stream",
          "text": [
            "\n",
            "Classification Report:\n",
            "              precision    recall  f1-score   support\n",
            "\n",
            "      Setosa       1.00      1.00      1.00        16\n",
            "  Versicolor       1.00      0.94      0.97        18\n",
            "   Virginica       0.92      1.00      0.96        11\n",
            "\n",
            "    accuracy                           0.98        45\n",
            "   macro avg       0.97      0.98      0.98        45\n",
            "weighted avg       0.98      0.98      0.98        45\n",
            "\n"
          ]
        }
      ],
      "source": [
        "# Classification Report\n",
        "print(\"\\nClassification Report:\")\n",
        "print(classification_report(Y_test, Y_pred))"
      ]
    },
    {
      "cell_type": "code",
      "execution_count": 30,
      "id": "43a74e76",
      "metadata": {
        "colab": {
          "base_uri": "https://localhost:8080/"
        },
        "id": "43a74e76",
        "outputId": "61c8ac25-0c41-42e8-857e-7ca266600cc5"
      },
      "outputs": [
        {
          "name": "stdout",
          "output_type": "stream",
          "text": [
            "The predicted type of the new iris flower is:  ['Virginica']\n"
          ]
        },
        {
          "name": "stderr",
          "output_type": "stream",
          "text": [
            "/usr/local/lib/python3.10/dist-packages/sklearn/base.py:439: UserWarning: X does not have valid feature names, but StandardScaler was fitted with feature names\n",
            "  warnings.warn(\n"
          ]
        }
      ],
      "source": [
        "#Predict the type of new iris flower where\n",
        "#sepal length is 6.5, sepal width is 3.8, petal length is 6.0 and petal width is 2.0\n",
        "\n",
        "# Create a new observation\n",
        "new_observation = [[6.5, 3.8, 6.0, 2.0]]\n",
        "\n",
        "# Scale the new observation\n",
        "new_observation_scaled = scaler.transform(new_observation)\n",
        "\n",
        "# Use the trained model to predict the type of the new iris flower\n",
        "new_prediction = LR_classifier.predict(new_observation_scaled)\n",
        "\n",
        "print(\"The predicted type of the new iris flower is: \", new_prediction)\n"
      ]
    },
    {
      "cell_type": "markdown",
      "id": "26162f37",
      "metadata": {
        "id": "26162f37"
      },
      "source": [
        "# Use KNN model\n",
        "\n",
        "Build a KNN Classifier Model with <b> number of neighbor is 7</b>\n",
        "<div>\n",
        "    The random forest classifier model object is name as <b>KNN_classifier</b>, metric is <b>miskowski</b> and <b>p=2</b>\n",
        "</div>"
      ]
    },
    {
      "cell_type": "code",
      "execution_count": 31,
      "id": "398d2f5f",
      "metadata": {
        "id": "398d2f5f"
      },
      "outputs": [],
      "source": [
        "from sklearn.neighbors import KNeighborsClassifier\n",
        "KNN_classifier = KNeighborsClassifier(n_neighbors=7, metric='minkowski', p=2)\n",
        "KNN_classifier = KNN_classifier.fit(X_train,Y_train)"
      ]
    },
    {
      "cell_type": "code",
      "execution_count": 32,
      "id": "83dd5109",
      "metadata": {
        "id": "83dd5109"
      },
      "outputs": [],
      "source": [
        "#Predict the X_test\n",
        "Y_pred = KNN_classifier.predict(X_test)"
      ]
    },
    {
      "cell_type": "code",
      "execution_count": 33,
      "id": "7232b50e",
      "metadata": {
        "colab": {
          "base_uri": "https://localhost:8080/"
        },
        "id": "7232b50e",
        "outputId": "6f50d2bc-fb47-4088-fff5-7472c7d85d33"
      },
      "outputs": [
        {
          "name": "stdout",
          "output_type": "stream",
          "text": [
            "\n",
            "Confusion Matrix:\n",
            "[[16  0  0]\n",
            " [ 0 17  1]\n",
            " [ 0  0 11]]\n"
          ]
        }
      ],
      "source": [
        "# Confusion Matrix\n",
        "from sklearn.metrics import confusion_matrix\n",
        "conf_matrix = confusion_matrix(Y_test, Y_pred)\n",
        "print(\"\\nConfusion Matrix:\")\n",
        "print(conf_matrix)"
      ]
    },
    {
      "cell_type": "code",
      "execution_count": 34,
      "id": "de8eefc1",
      "metadata": {
        "colab": {
          "base_uri": "https://localhost:8080/"
        },
        "id": "de8eefc1",
        "outputId": "8708021f-3954-405b-ed53-1ba36ba0e979"
      },
      "outputs": [
        {
          "name": "stdout",
          "output_type": "stream",
          "text": [
            "\n",
            "Classification Report:\n",
            "              precision    recall  f1-score   support\n",
            "\n",
            "      Setosa       1.00      1.00      1.00        16\n",
            "  Versicolor       1.00      0.94      0.97        18\n",
            "   Virginica       0.92      1.00      0.96        11\n",
            "\n",
            "    accuracy                           0.98        45\n",
            "   macro avg       0.97      0.98      0.98        45\n",
            "weighted avg       0.98      0.98      0.98        45\n",
            "\n"
          ]
        }
      ],
      "source": [
        "# Classification Report\n",
        "print(\"\\nClassification Report:\")\n",
        "print(classification_report(Y_test, Y_pred))"
      ]
    },
    {
      "cell_type": "code",
      "execution_count": 35,
      "id": "49e857b1",
      "metadata": {
        "colab": {
          "base_uri": "https://localhost:8080/"
        },
        "id": "49e857b1",
        "outputId": "538f5661-02c7-4f5c-aaa8-7ac2bf2ef1b9"
      },
      "outputs": [
        {
          "name": "stdout",
          "output_type": "stream",
          "text": [
            "The predicted type of the new iris flower is:  ['Virginica']\n"
          ]
        },
        {
          "name": "stderr",
          "output_type": "stream",
          "text": [
            "/usr/local/lib/python3.10/dist-packages/sklearn/base.py:439: UserWarning: X does not have valid feature names, but StandardScaler was fitted with feature names\n",
            "  warnings.warn(\n"
          ]
        }
      ],
      "source": [
        "#Predict the type of new iris flower where\n",
        "#sepal length is 6.5, sepal width is 3.8, petal length is 6.0 and petal width is 2.0\n",
        "\n",
        "# Create a new observation\n",
        "new_observation = [[6.5, 3.8, 6.0, 2.0]]\n",
        "\n",
        "# Scale the new observation\n",
        "new_observation_scaled = scaler.transform(new_observation)\n",
        "\n",
        "# Use the trained model to predict the type of the new iris flower\n",
        "new_prediction = KNN_classifier.predict(new_observation_scaled)\n",
        "\n",
        "print(\"The predicted type of the new iris flower is: \", new_prediction)\n"
      ]
    }
  ],
  "metadata": {
    "colab": {
      "provenance": []
    },
    "kernelspec": {
      "display_name": "Python 3 (ipykernel)",
      "language": "python",
      "name": "python3"
    },
    "language_info": {
      "codemirror_mode": {
        "name": "ipython",
        "version": 3
      },
      "file_extension": ".py",
      "mimetype": "text/x-python",
      "name": "python",
      "nbconvert_exporter": "python",
      "pygments_lexer": "ipython3",
      "version": "3.11.5"
    }
  },
  "nbformat": 4,
  "nbformat_minor": 5
}
